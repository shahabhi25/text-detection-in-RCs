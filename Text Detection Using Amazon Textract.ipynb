{
 "cells": [
  {
   "cell_type": "markdown",
   "metadata": {},
   "source": [
    "# Text Detection model for reading RCs\n"
   ]
  },
  {
   "cell_type": "markdown",
   "metadata": {},
   "source": [
    "- Used Amazon Textract to extract the text from the given dataset of photos\n",
    "- To learn more, [What is Amazon Textract ?](https://docs.aws.amazon.com/textract/latest/dg/what-is.html)\n",
    "- Why I decided to use Amazon Textract? (See at the bottom of the notebook)\n",
    "- [AWS Full Documentation](https://docs.aws.amazon.com/)\n",
    "\n",
    "## <font color='darkblue'>Important Notes</font>\n",
    "- Amazon Textract is not available in Asia Pacific (Mumbai) region - ap-south-1. (This is the nearest region for me.) \n",
    "- I've used Asia Pacific (Singapore) - ap-southeast-1 region in this notebook. (This is the nearest region that does have support for Amazon Textract.)\n",
    "- Be careful to use same region for S3 Bucket used below otherwise it won't work.\n",
    "\n",
    "- I've modified some of the images given in the dataset.\n",
    "\n",
    "## Set Up before proceeding\n",
    "- Use the below link to set up all necessary things needed \n",
    "- [Getting started with Amazon Textract](https://docs.aws.amazon.com/textract/latest/dg/getting-started.html)"
   ]
  },
  {
   "cell_type": "markdown",
   "metadata": {},
   "source": [
    "### Importing the packages needed\n",
    "- **re** is regular expressions module for python [Learn more about regular expressoins](https://developers.google.com/edu/python/regular-expressions)\n",
    "- [YouTube link for regular expressions](https://www.youtube.com/watch?v=K8L6KVGG-7o) - I would recommend watching this video if you want to understand how regular expressions work."
   ]
  },
  {
   "cell_type": "code",
   "execution_count": 2,
   "metadata": {},
   "outputs": [],
   "source": [
    "import pandas as pd\n",
    "import boto3\n",
    "import re"
   ]
  },
  {
   "cell_type": "markdown",
   "metadata": {},
   "source": [
    "- Put your dataset folder in an S3 bucket and name it.\n",
    "- [Getting Started with Amazon Simple Storage Service](https://docs.aws.amazon.com/AmazonS3/latest/gsg/index.html)"
   ]
  },
  {
   "cell_type": "markdown",
   "metadata": {},
   "source": [
    "- Replace the bucket name with your S3 bucket name \n",
    "```\n",
    " bucket='YOUR_BUCKET_NAME'\n",
    "```"
   ]
  },
  {
   "cell_type": "code",
   "execution_count": 3,
   "metadata": {},
   "outputs": [],
   "source": [
    "# S3 Bucket\n",
    "bucket='bucketfortextdetection3'"
   ]
  },
  {
   "cell_type": "markdown",
   "metadata": {},
   "source": [
    "#### Function for analyzing a photo to extract information\n",
    "- Input parameters:\n",
    "    - photo: Name of a photo inside the S3 bucket\n",
    "    - bucket: Name of an S3 bucket\n",
    "    \n",
    "- Output parmeters:\n",
    "    - data: Returns the text detected in the photo\n",
    "    \n",
    "Learn more about [ Analyzing Document Text with Amazon Textract](https://docs.aws.amazon.com/textract/latest/dg/analyzing-document-text.html)"
   ]
  },
  {
   "cell_type": "code",
   "execution_count": 4,
   "metadata": {
    "scrolled": true
   },
   "outputs": [],
   "source": [
    "def analyze(photo, bucket):\n",
    "\n",
    "    tex_client = boto3.client('textract')\n",
    "\n",
    "    response = tex_client.analyze_document(Document={'S3Object': {'Bucket': bucket,'Name': photo}}, FeatureTypes=['TABLES','FORMS'])\n",
    "                        \n",
    "    text = pd.DataFrame(response['Blocks'])\n",
    "    \n",
    "    data = str('')\n",
    "    for i in range(len(text['Text'])):\n",
    "        if pd.notnull(text.Text[i]):\n",
    "            data +=str(text.Text[i])+' '\n",
    "        \n",
    "    return data    "
   ]
  },
  {
   "cell_type": "markdown",
   "metadata": {},
   "source": [
    "## Extracting Information\n",
    "- License plate number or Registration number [Learn more](http://www.rto.org.in/vehicle-registration-plates-of-india/format-of-number-plates.htm)\n",
    "- VIN number or Chassis number (typically 17 digit long)\n",
    "- Name\n",
    "- Engine number\n",
    "- Registration date\n",
    "- Mfg. date"
   ]
  },
  {
   "cell_type": "markdown",
   "metadata": {},
   "source": [
    "Used regular expression to identify the patterns in the detected text to extract the different information."
   ]
  },
  {
   "cell_type": "markdown",
   "metadata": {},
   "source": [
    "Let see how the functions work:\n",
    "- First the funtion take the text as input.\n",
    "- Then assigns the pattern of a required information to the variable 'reg'.\n",
    "- Searches for the pattern in the text.\n",
    "- If found returns the found value or just returns None."
   ]
  },
  {
   "cell_type": "code",
   "execution_count": 5,
   "metadata": {},
   "outputs": [],
   "source": [
    "# Registration Number\n",
    "def get_reg_number(data):\n",
    "  reg = re.compile(r'(REGN ?.?m? ?NO ?.? ?\\w*|Registration No.\\s)([A-Z]{2}[0-9]{1,2}[\\t A-Z-]{2,4}[0-9]+)') \n",
    "  mo = reg.search(data)\n",
    "  try :\n",
    "    reg_num = mo.group(2)\n",
    "  except:\n",
    "    reg_num = None\n",
    "  #print('Registration No. : {}'.format(reg_num))\n",
    "  return reg_num"
   ]
  },
  {
   "cell_type": "code",
   "execution_count": 6,
   "metadata": {},
   "outputs": [],
   "source": [
    "# Chasis Number or VIN\n",
    "def get_vin_no(data):\n",
    "  reg = re.compile(r'(CH\\.?[ ]?NO[ ]?|Chass?is No\\.?) ?[:-]? ?(\\w{11,17})')\n",
    "  mo = reg.search(data)\n",
    "  try:\n",
    "    vin = mo.group(2)\n",
    "  except:\n",
    "    vin = None\n",
    "  #print('Vehicle identifiction no. : {}'.format(mo.group(1)))\n",
    "  return vin"
   ]
  },
  {
   "cell_type": "code",
   "execution_count": 7,
   "metadata": {},
   "outputs": [],
   "source": [
    "# Name\n",
    "def get_name(data):\n",
    "  reg = re.compile(r'(Name\\s&\\sAddress\\s|N[Aa][Mm][Ee][ _]*:?[ ]*)([a-zA-Z.]+\\s{1}[a-zA-Z]{3,}\\s{1}[a-zA-Z]{1,}\\s|[a-zA-Z.]+\\s{1}[a-zA-Z]{1,\\s}|[a-zA-Z.]+\\s)')\n",
    "  mo = reg.search(data)\n",
    "  try:\n",
    "    name = str(mo.group(2))\n",
    "  except:\n",
    "    name = None \n",
    "  #print('Name : {}'.format(mo.group(1)))\n",
    "  return name\n"
   ]
  },
  {
   "cell_type": "code",
   "execution_count": 8,
   "metadata": {},
   "outputs": [],
   "source": [
    "# Engine number\n",
    "def get_engine_no(data):\n",
    "  reg = re.compile(r'(E ?NO[ =-]*:? ?|Engine\\s|Engine\\sNo)(\\w{11,17})')\n",
    "  mo = reg.search(data)\n",
    "  try:\n",
    "    engine = mo.group(2)\n",
    "  except:\n",
    "    engine = None\n",
    "  #print('Engine number : {}'.format(mo.group(1)))\n",
    "  return engine"
   ]
  },
  {
   "cell_type": "code",
   "execution_count": 9,
   "metadata": {},
   "outputs": [],
   "source": [
    "#Registration Date\n",
    "def get_reg_date(data):\n",
    "  reg = re.compile(r'(REG ?. ?DT ?:? ?|Valid\\sFrom\\s?|Date\\s?of\\s?Issue\\s?)(\\d{2}[-/]\\d{2}|\\w{3}[-/]\\d{4})') \n",
    "  mo = reg.search(data)\n",
    "  try:\n",
    "    reg_date = mo.group(2)\n",
    "  except:\n",
    "    reg_date = None\n",
    "  #print('Registratoin date : {}/{}/{}'.format(mo.group(1), mo.group(2), mo.group(3)))\n",
    "  return reg_date"
   ]
  },
  {
   "cell_type": "code",
   "execution_count": 10,
   "metadata": {
    "scrolled": true
   },
   "outputs": [],
   "source": [
    "# Mfg. Date\n",
    "def get_mfg_date(data):\n",
    "  reg = re.compile(r'(MFG[ .]?DT[. ]?:?[ ]?|Month[/]\\sYrof\\s?|Month\\sand\\sYear\\sof\\sMfg\\.?\\s)(\\d{1,2}/\\d{4}|\\d{2}/\\d{2}/\\d{4})')\n",
    "  mo = reg.search(data)\n",
    "  try:\n",
    "    mfg_date = mo.group(2)\n",
    "  except:\n",
    "    mfg_date = None\n",
    "  #print('Mfg. Date : {}/{}'.format(mo.group(1), mo.group(2)))\n",
    "  return mfg_date"
   ]
  },
  {
   "cell_type": "code",
   "execution_count": 11,
   "metadata": {},
   "outputs": [],
   "source": [
    "dataset = []"
   ]
  },
  {
   "cell_type": "code",
   "execution_count": 12,
   "metadata": {
    "scrolled": true
   },
   "outputs": [],
   "source": [
    "s3_client = boto3.client('s3')\n",
    "paginator = s3_client.get_paginator('list_objects_v2')\n",
    "result = paginator.paginate(Bucket=bucket)\n",
    "for page in result:\n",
    "    for key in page[ \"Contents\" ]:\n",
    "        keyString = key[ \"Key\" ]\n",
    "        photo = keyString\n",
    "        data = analyze(photo, bucket)\n",
    "        dataset.append(data)"
   ]
  },
  {
   "cell_type": "code",
   "execution_count": 13,
   "metadata": {},
   "outputs": [],
   "source": [
    "data_set = pd.DataFrame(dataset, columns=['text'])"
   ]
  },
  {
   "cell_type": "code",
   "execution_count": 14,
   "metadata": {},
   "outputs": [
    {
     "data": {
      "text/html": [
       "<div>\n",
       "<style scoped>\n",
       "    .dataframe tbody tr th:only-of-type {\n",
       "        vertical-align: middle;\n",
       "    }\n",
       "\n",
       "    .dataframe tbody tr th {\n",
       "        vertical-align: top;\n",
       "    }\n",
       "\n",
       "    .dataframe thead th {\n",
       "        text-align: right;\n",
       "    }\n",
       "</style>\n",
       "<table border=\"1\" class=\"dataframe\">\n",
       "  <thead>\n",
       "    <tr style=\"text-align: right;\">\n",
       "      <th></th>\n",
       "      <th>text</th>\n",
       "    </tr>\n",
       "  </thead>\n",
       "  <tbody>\n",
       "    <tr>\n",
       "      <td>0</td>\n",
       "      <td>REGN NO - DL9CAC6215 O SNo - 01 REG. DT: 24/12...</td>\n",
       "    </tr>\n",
       "    <tr>\n",
       "      <td>1</td>\n",
       "      <td>REGN. NO I DL2CAT9109 NEW REGN DT: 21/07/2015 ...</td>\n",
       "    </tr>\n",
       "    <tr>\n",
       "      <td>2</td>\n",
       "      <td>GOVERNMENT OF HARYANA Transfer of Ownership CE...</td>\n",
       "    </tr>\n",
       "    <tr>\n",
       "      <td>3</td>\n",
       "      <td>CERTIFICATE GOVERNMENT OF REGISTRATION VEHICLE...</td>\n",
       "    </tr>\n",
       "    <tr>\n",
       "      <td>4</td>\n",
       "      <td>GOVERNMENT OF HARYANA CERTIFICATE OF REGISTRAT...</td>\n",
       "    </tr>\n",
       "  </tbody>\n",
       "</table>\n",
       "</div>"
      ],
      "text/plain": [
       "                                                text\n",
       "0  REGN NO - DL9CAC6215 O SNo - 01 REG. DT: 24/12...\n",
       "1  REGN. NO I DL2CAT9109 NEW REGN DT: 21/07/2015 ...\n",
       "2  GOVERNMENT OF HARYANA Transfer of Ownership CE...\n",
       "3  CERTIFICATE GOVERNMENT OF REGISTRATION VEHICLE...\n",
       "4  GOVERNMENT OF HARYANA CERTIFICATE OF REGISTRAT..."
      ]
     },
     "execution_count": 14,
     "metadata": {},
     "output_type": "execute_result"
    }
   ],
   "source": [
    "data_set.head()"
   ]
  },
  {
   "cell_type": "code",
   "execution_count": 15,
   "metadata": {},
   "outputs": [
    {
     "name": "stdout",
     "output_type": "stream",
     "text": [
      "REGN. NO I DL2CAT9109 NEW REGN DT: 21/07/2015 CH NO MA3ETDE1S00218363 O SNO :01 E NO 2 7567094 COLOUR GLISTENINGGREY MFR MARUTI SUZUKI INDIA LTD VEH CL Motor Car NAME ANOOP SURESH DHAWALE S/WID OF SURESH HARISHCHANDRA DHAWALE ADDRESS 72 SHRI BADRINATH APPTT.PLOT NO-18 SEC-4 DWARKA NEW DELHI.. South West, Delhi-110075 MODEL MARUTI CELERIO VXI GREEN BODY RIGID (PASSENGER CAR) WHEEL BASE 002425 NO OF CYL 03 MFG DT 07/2015 UNLADEN WT 000915 FUEL PETROLICNG SEATING C 005 REGD UPTO 20/07/2030 STANDING C 00 Signature TAX UPTO OTT CU CAP 000998 26412/2015A098:09 IP DEPOT REGN. NO I DL2CAT9109 NEW REGN DT: 21/07/2015 CH NO MA3ETDE1S00218363 O SNO :01 E NO 2 7567094 COLOUR GLISTENINGGREY MFR MARUTI SUZUKI INDIA LTD VEH CL Motor Car NAME ANOOP SURESH DHAWALE S/WID OF SURESH HARISHCHANDRA DHAWALE ADDRESS 72 SHRI BADRINATH APPTT.PLOT NO-18 SEC-4 DWARKA NEW DELHI.. South West, Delhi-110075 MODEL MARUTI CELERIO VXI GREEN BODY RIGID (PASSENGER CAR) WHEEL BASE 002425 NO OF CYL 03 MFG DT 07/2015 UNLADEN WT 000915 FUEL PETROLICNG SEATING C 005 REGD UPTO 20/07/2030 STANDING C 00 Signature TAX UPTO OTT CU CAP 000998 26412/2015A098:09 IP DEPOT \n"
     ]
    }
   ],
   "source": [
    "print(data_set.text[1])"
   ]
  },
  {
   "cell_type": "code",
   "execution_count": 16,
   "metadata": {},
   "outputs": [],
   "source": [
    "def extract_info(text):\n",
    "    data_info = {}\n",
    "    data_info['reg_num'] = get_reg_number(text)\n",
    "    data_info['vin'] = get_vin_no(text)\n",
    "    data_info['name'] = get_name(text)\n",
    "    data_info['engine_no'] = get_engine_no(text)\n",
    "    data_info['reg_date'] = get_reg_date(text)\n",
    "    data_info['mfg_date'] = get_mfg_date(text)\n",
    "    \n",
    "    return data_info"
   ]
  },
  {
   "cell_type": "code",
   "execution_count": 17,
   "metadata": {},
   "outputs": [],
   "source": [
    "info = []\n",
    "for i in range(len(data_set.text)):\n",
    "    data_info = extract_info(data_set.text[i])\n",
    "    info.append(data_info)"
   ]
  },
  {
   "cell_type": "code",
   "execution_count": 18,
   "metadata": {},
   "outputs": [],
   "source": [
    "df = pd.DataFrame(info)"
   ]
  },
  {
   "cell_type": "code",
   "execution_count": 19,
   "metadata": {},
   "outputs": [
    {
     "data": {
      "text/html": [
       "<div>\n",
       "<style scoped>\n",
       "    .dataframe tbody tr th:only-of-type {\n",
       "        vertical-align: middle;\n",
       "    }\n",
       "\n",
       "    .dataframe tbody tr th {\n",
       "        vertical-align: top;\n",
       "    }\n",
       "\n",
       "    .dataframe thead th {\n",
       "        text-align: right;\n",
       "    }\n",
       "</style>\n",
       "<table border=\"1\" class=\"dataframe\">\n",
       "  <thead>\n",
       "    <tr style=\"text-align: right;\">\n",
       "      <th></th>\n",
       "      <th>reg_num</th>\n",
       "      <th>vin</th>\n",
       "      <th>name</th>\n",
       "      <th>engine_no</th>\n",
       "      <th>reg_date</th>\n",
       "      <th>mfg_date</th>\n",
       "    </tr>\n",
       "  </thead>\n",
       "  <tbody>\n",
       "    <tr>\n",
       "      <td>0</td>\n",
       "      <td>DL9CAC6215</td>\n",
       "      <td>MA3FHEB1S00358580</td>\n",
       "      <td>SRISHTI</td>\n",
       "      <td>D13A0338461</td>\n",
       "      <td>24/12</td>\n",
       "      <td>None</td>\n",
       "    </tr>\n",
       "    <tr>\n",
       "      <td>1</td>\n",
       "      <td>DL2CAT9109</td>\n",
       "      <td>MA3ETDE1S00218363</td>\n",
       "      <td>ANOOP SURESH DHAWALE</td>\n",
       "      <td>None</td>\n",
       "      <td>21/07</td>\n",
       "      <td>07/2015</td>\n",
       "    </tr>\n",
       "    <tr>\n",
       "      <td>2</td>\n",
       "      <td>None</td>\n",
       "      <td>MA3EYD81S00765439</td>\n",
       "      <td>SUBE</td>\n",
       "      <td>F8DN3321864</td>\n",
       "      <td>None</td>\n",
       "      <td>9/2006</td>\n",
       "    </tr>\n",
       "    <tr>\n",
       "      <td>3</td>\n",
       "      <td>None</td>\n",
       "      <td>MA3EYD81S01277497</td>\n",
       "      <td>RANBEER</td>\n",
       "      <td>F8DN1266647</td>\n",
       "      <td>None</td>\n",
       "      <td>11/2008</td>\n",
       "    </tr>\n",
       "    <tr>\n",
       "      <td>4</td>\n",
       "      <td>HR49D 0002</td>\n",
       "      <td>MA3FJEB1S00404062</td>\n",
       "      <td>AMAR</td>\n",
       "      <td>D13A2235550</td>\n",
       "      <td>None</td>\n",
       "      <td>9/2013</td>\n",
       "    </tr>\n",
       "  </tbody>\n",
       "</table>\n",
       "</div>"
      ],
      "text/plain": [
       "      reg_num                vin                   name    engine_no reg_date  \\\n",
       "0  DL9CAC6215  MA3FHEB1S00358580               SRISHTI   D13A0338461    24/12   \n",
       "1  DL2CAT9109  MA3ETDE1S00218363  ANOOP SURESH DHAWALE          None    21/07   \n",
       "2        None  MA3EYD81S00765439                  SUBE   F8DN3321864     None   \n",
       "3        None  MA3EYD81S01277497               RANBEER   F8DN1266647     None   \n",
       "4  HR49D 0002  MA3FJEB1S00404062                  AMAR   D13A2235550     None   \n",
       "\n",
       "  mfg_date  \n",
       "0     None  \n",
       "1  07/2015  \n",
       "2   9/2006  \n",
       "3  11/2008  \n",
       "4   9/2013  "
      ]
     },
     "execution_count": 19,
     "metadata": {},
     "output_type": "execute_result"
    }
   ],
   "source": [
    "df.head()"
   ]
  },
  {
   "cell_type": "code",
   "execution_count": 20,
   "metadata": {},
   "outputs": [],
   "source": [
    "# saving the dataframe \n",
    "df.to_csv('file1.csv') "
   ]
  },
  {
   "cell_type": "markdown",
   "metadata": {},
   "source": [
    "## Try it yourself\n",
    "- Hoping you have already set the necessary things described at the start of the notebook"
   ]
  },
  {
   "cell_type": "code",
   "execution_count": null,
   "metadata": {},
   "outputs": [],
   "source": [
    "bucket = 'BUCKET_NAME'        #Your S3 Bucket\n",
    "image = 'IMAGE'               #Image name - put the image in the bucket directly\n",
    "\n",
    "Detected_text = analyze(image, bucket)\n",
    "Info = extract_info(Detected_text)\n",
    "\n",
    "print(Info)"
   ]
  },
  {
   "cell_type": "markdown",
   "metadata": {},
   "source": [
    "## Why I decided to use Amazon Textract ?\n",
    "\n",
    "- Why not Google Cloud Vision API - Simple I didn't have a reccuring payment card but Google Vision API is better than Amazon Textract.\n",
    "- Why not Amazon Rekognition - I first tried this only to find it later that it only identifies 50 words per image, so I had to drop the idea of using it and use Amazon Textract instead which obviously doesn't have 50 words per image limit."
   ]
  },
  {
   "cell_type": "markdown",
   "metadata": {},
   "source": [
    "#### I also tried PyTesseract but the result doesn't seem close to what Amazon Textract can give. You can find the link to that notebook below.\n",
    "[Text Detection using Pytesseract](https://colab.research.google.com/drive/1XvYzPinaG5ejHQNQxl6ZfiyaWu4dIrC7?usp=sharing)"
   ]
  },
  {
   "cell_type": "code",
   "execution_count": null,
   "metadata": {},
   "outputs": [],
   "source": []
  }
 ],
 "metadata": {
  "kernelspec": {
   "display_name": "Python 3",
   "language": "python",
   "name": "python3"
  },
  "language_info": {
   "codemirror_mode": {
    "name": "ipython",
    "version": 3
   },
   "file_extension": ".py",
   "mimetype": "text/x-python",
   "name": "python",
   "nbconvert_exporter": "python",
   "pygments_lexer": "ipython3",
   "version": "3.7.4"
  }
 },
 "nbformat": 4,
 "nbformat_minor": 2
}
